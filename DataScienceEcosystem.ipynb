{
 "cells": [
  {
   "cell_type": "markdown",
   "id": "cff050fd-4212-4a31-9f3d-62eea8219957",
   "metadata": {},
   "source": [
    "# Data Science Tools and Ecosystem"
   ]
  },
  {
   "cell_type": "markdown",
   "id": "dfe0b6eb-fe5b-4cfb-bd58-18e9f6897f97",
   "metadata": {},
   "source": [
    "In this notebook, Data Science Tools and Ecosystem are summarized"
   ]
  },
  {
   "cell_type": "markdown",
   "id": "c51022e2-d42d-4f42-b0a6-5c26efed0fa7",
   "metadata": {},
   "source": [
    "Some of the popular languages that Data Scientists use are:\n",
    "1. Python\n",
    "2. R\n",
    "3. Scala"
   ]
  },
  {
   "cell_type": "markdown",
   "id": "f3b4bde4-7441-4e88-b874-c2c0a02f0c20",
   "metadata": {},
   "source": [
    "Some of the commonly used libraries used by Data Scientists include:\n",
    "1. MatplotLib\n",
    "2. NumPy\n",
    "3. plotly\n",
    "4. Pandas"
   ]
  },
  {
   "cell_type": "markdown",
   "id": "bdcb60d1-0d4b-4cb8-8f61-c0de79b82b44",
   "metadata": {},
   "source": [
    "| Data Science Tools |\n",
    "| :---------- |\n",
    "| RStudio |\n",
    "| Jupiter Notbook |\n",
    "| Power BI | "
   ]
  },
  {
   "cell_type": "markdown",
   "id": "a4493825-71b1-41b8-b0c9-842c0ebcf6f1",
   "metadata": {},
   "source": [
    "### Below are a few examples of evaluating arithmetic expressions in Python"
   ]
  },
  {
   "cell_type": "code",
   "execution_count": 5,
   "id": "39aad705-8424-49de-9ca7-6646ab455e19",
   "metadata": {},
   "outputs": [
    {
     "data": {
      "text/plain": [
       "17.25"
      ]
     },
     "execution_count": 5,
     "metadata": {},
     "output_type": "execute_result"
    }
   ],
   "source": [
    "total_cost = 15 * 1.15\n",
    "total_cost"
   ]
  },
  {
   "cell_type": "code",
   "execution_count": 6,
   "id": "ef19eb2c-902b-4f74-864a-bf07bfcc1107",
   "metadata": {},
   "outputs": [
    {
     "data": {
      "text/plain": [
       "17.0"
      ]
     },
     "execution_count": 6,
     "metadata": {},
     "output_type": "execute_result"
    }
   ],
   "source": [
    "#This a simple arithmetic expression to mutiply then add integers\n",
    "(3*4)+5"
   ]
  },
  {
   "cell_type": "code",
   "execution_count": 7,
   "id": "f3f87040-9558-4303-984b-2510209fee6c",
   "metadata": {},
   "outputs": [
    {
     "data": {
      "text/plain": [
       "3.3333333333333335"
      ]
     },
     "execution_count": 7,
     "metadata": {},
     "output_type": "execute_result"
    }
   ],
   "source": [
    "#This will convert 200 minutes to hours by diving by 60\n",
    "Hours = 200 / 60\n",
    "Hours"
   ]
  },
  {
   "cell_type": "markdown",
   "id": "ce402ed1-87d7-4aac-8b6f-fee87dfe88d8",
   "metadata": {},
   "source": [
    "**Objectives:**\n",
    "* popular languages used by Data Scientists\n",
    "* commonly used libraries used by Data Scientists\n",
    "* list of the main Data Science Tools\n",
    "* examples of arithmetic expressions in Python"
   ]
  },
  {
   "cell_type": "markdown",
   "id": "3c4a1c85-0c9e-4074-821b-a0e7bcc72fd1",
   "metadata": {},
   "source": [
    "## Author\n",
    "Sofiene Ben Aziza"
   ]
  },
  {
   "cell_type": "code",
   "execution_count": null,
   "id": "27336497-50f0-4a8e-b826-4e1e59f161aa",
   "metadata": {},
   "outputs": [],
   "source": []
  }
 ],
 "metadata": {
  "kernelspec": {
   "display_name": "Python 3 (ipykernel)",
   "language": "python",
   "name": "python3"
  },
  "language_info": {
   "codemirror_mode": {
    "name": "ipython",
    "version": 3
   },
   "file_extension": ".py",
   "mimetype": "text/x-python",
   "name": "python",
   "nbconvert_exporter": "python",
   "pygments_lexer": "ipython3",
   "version": "3.12.4"
  }
 },
 "nbformat": 4,
 "nbformat_minor": 5
}
